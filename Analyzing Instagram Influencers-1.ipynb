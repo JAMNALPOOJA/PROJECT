{
 "cells": [
  {
   "cell_type": "markdown",
   "id": "8d79f4d1",
   "metadata": {},
   "source": [
    "# Analyzing Instagram Influencers: A Data-Driven Exploration Using Python"
   ]
  },
  {
   "cell_type": "markdown",
   "id": "484dcff3",
   "metadata": {},
   "source": [
    "#  Instagram: Shaping Minds and Perspectives\n",
    "\n",
    " Instagram, the brainchild of Kevin Systrom and Mike Krieger, has come a long way since its inception in 2010. Born in the heart of America's tech scene, this photo and video sharing social networking service has become a global sensation, ultimately finding a home under the Facebook Inc. umbrella. At its core, Instagram is a platform that thrives on visual storytelling. Users have the power to share their life's moments, whether mundane or extraordinary, through a captivating blend of photos and videos.\n",
    "\n",
    " However, Instagram's influence reaches far beyond the realm of aesthetics and leisure. It has evolved into a powerful tool for advocacy and change. Influencers, activists, and organizations have harnessed the platform's reach to influence and mobilize their followers on critical issues. By sharing compelling stories, images, and videos, they can shape public opinion and drive societal change. This capacity to sway hearts and minds on pressing matters underscores the platform's role in impacting the order of public discourse."
   ]
  },
  {
   "cell_type": "markdown",
   "id": "1b945e4b",
   "metadata": {},
   "source": [
    "# About dataset"
   ]
  },
  {
   "cell_type": "markdown",
   "id": "390a50b3",
   "metadata": {},
   "source": [
    "This file contains data on Instagram influencers, featuring 10 attributes sorted by their follower count. Here's what each attribute represents:\n",
    "\n",
    "1. Rank: Influencer's ranking based on their follower count.\n",
    "2. Channel Info: Instagram username of the influencer.\n",
    "3. Influence Score: A score calculated from mentions, importance, and popularity.\n",
    "4. Posts: The number of posts made by the influencer.\n",
    "5. Followers: Total number of followers the influencer has.\n",
    "6. Avg Likes: The average likes received on the influencer's posts.\n",
    "7. 60-Day Eng. Rate: Engagement rate over the last 60 days as a fraction of total engagements.\n",
    "8. New Post Avg. Likes: Average likes on the influencer's new posts.\n",
    "9. Total Likes: The total number of likes the influencer has received on their posts (in billions).\n",
    "10. Country: The influencer's country or region of origin."
   ]
  },
  {
   "cell_type": "markdown",
   "id": "3b591e7a",
   "metadata": {},
   "source": [
    "# Import Library"
   ]
  },
  {
   "cell_type": "code",
   "execution_count": 106,
   "id": "6ad1e76f",
   "metadata": {},
   "outputs": [
    {
     "data": {
      "text/html": [
       "        <script type=\"text/javascript\">\n",
       "        window.PlotlyConfig = {MathJaxConfig: 'local'};\n",
       "        if (window.MathJax && window.MathJax.Hub && window.MathJax.Hub.Config) {window.MathJax.Hub.Config({SVG: {font: \"STIX-Web\"}});}\n",
       "        if (typeof require !== 'undefined') {\n",
       "        require.undef(\"plotly\");\n",
       "        requirejs.config({\n",
       "            paths: {\n",
       "                'plotly': ['https://cdn.plot.ly/plotly-2.12.1.min']\n",
       "            }\n",
       "        });\n",
       "        require(['plotly'], function(Plotly) {\n",
       "            window._Plotly = Plotly;\n",
       "        });\n",
       "        }\n",
       "        </script>\n",
       "        "
      ]
     },
     "metadata": {},
     "output_type": "display_data"
    }
   ],
   "source": [
    "import pandas as pd, numpy as np, matplotlib.pyplot as plt, seaborn as sns\n",
    "import plotly.graph_objects as go\n",
    "import plotly.express as px\n",
    "from plotly.offline import init_notebook_mode, iplot\n",
    "init_notebook_mode(connected=True)\n",
    "import os\n",
    "for dirname, _, filenames in os.walk('/kaggle/input'):\n",
    "    for filename in filenames:\n",
    "        print(os.path.join(dirname, filename))"
   ]
  },
  {
   "cell_type": "markdown",
   "id": "d415b58c",
   "metadata": {},
   "source": [
    "# Uploading csv file"
   ]
  },
  {
   "cell_type": "code",
   "execution_count": 70,
   "id": "7330c40d",
   "metadata": {},
   "outputs": [],
   "source": [
    "df= pd.read_csv(\"top_insta_data.csv\")"
   ]
  },
  {
   "cell_type": "markdown",
   "id": "8cfdc0d3",
   "metadata": {},
   "source": [
    "# Data Pre-processing"
   ]
  },
  {
   "cell_type": "code",
   "execution_count": 71,
   "id": "913d698c",
   "metadata": {},
   "outputs": [
    {
     "data": {
      "text/html": [
       "<div>\n",
       "<style scoped>\n",
       "    .dataframe tbody tr th:only-of-type {\n",
       "        vertical-align: middle;\n",
       "    }\n",
       "\n",
       "    .dataframe tbody tr th {\n",
       "        vertical-align: top;\n",
       "    }\n",
       "\n",
       "    .dataframe thead th {\n",
       "        text-align: right;\n",
       "    }\n",
       "</style>\n",
       "<table border=\"1\" class=\"dataframe\">\n",
       "  <thead>\n",
       "    <tr style=\"text-align: right;\">\n",
       "      <th></th>\n",
       "      <th>rank</th>\n",
       "      <th>channel_info</th>\n",
       "      <th>influence_score</th>\n",
       "      <th>posts</th>\n",
       "      <th>followers</th>\n",
       "      <th>avg_likes</th>\n",
       "      <th>60_day_eng_rate</th>\n",
       "      <th>new_post_avg_like</th>\n",
       "      <th>total_likes</th>\n",
       "      <th>country</th>\n",
       "    </tr>\n",
       "  </thead>\n",
       "  <tbody>\n",
       "    <tr>\n",
       "      <th>0</th>\n",
       "      <td>1</td>\n",
       "      <td>cristiano</td>\n",
       "      <td>92</td>\n",
       "      <td>3.3k</td>\n",
       "      <td>475.8m</td>\n",
       "      <td>8.7m</td>\n",
       "      <td>1.39%</td>\n",
       "      <td>6.5m</td>\n",
       "      <td>29.0b</td>\n",
       "      <td>Spain</td>\n",
       "    </tr>\n",
       "    <tr>\n",
       "      <th>1</th>\n",
       "      <td>2</td>\n",
       "      <td>kyliejenner</td>\n",
       "      <td>91</td>\n",
       "      <td>6.9k</td>\n",
       "      <td>366.2m</td>\n",
       "      <td>8.3m</td>\n",
       "      <td>1.62%</td>\n",
       "      <td>5.9m</td>\n",
       "      <td>57.4b</td>\n",
       "      <td>United States</td>\n",
       "    </tr>\n",
       "    <tr>\n",
       "      <th>2</th>\n",
       "      <td>3</td>\n",
       "      <td>leomessi</td>\n",
       "      <td>90</td>\n",
       "      <td>0.89k</td>\n",
       "      <td>357.3m</td>\n",
       "      <td>6.8m</td>\n",
       "      <td>1.24%</td>\n",
       "      <td>4.4m</td>\n",
       "      <td>6.0b</td>\n",
       "      <td>NaN</td>\n",
       "    </tr>\n",
       "    <tr>\n",
       "      <th>3</th>\n",
       "      <td>4</td>\n",
       "      <td>selenagomez</td>\n",
       "      <td>93</td>\n",
       "      <td>1.8k</td>\n",
       "      <td>342.7m</td>\n",
       "      <td>6.2m</td>\n",
       "      <td>0.97%</td>\n",
       "      <td>3.3m</td>\n",
       "      <td>11.5b</td>\n",
       "      <td>United States</td>\n",
       "    </tr>\n",
       "    <tr>\n",
       "      <th>4</th>\n",
       "      <td>5</td>\n",
       "      <td>therock</td>\n",
       "      <td>91</td>\n",
       "      <td>6.8k</td>\n",
       "      <td>334.1m</td>\n",
       "      <td>1.9m</td>\n",
       "      <td>0.20%</td>\n",
       "      <td>665.3k</td>\n",
       "      <td>12.5b</td>\n",
       "      <td>United States</td>\n",
       "    </tr>\n",
       "  </tbody>\n",
       "</table>\n",
       "</div>"
      ],
      "text/plain": [
       "   rank channel_info  influence_score  posts followers avg_likes  \\\n",
       "0     1    cristiano               92   3.3k    475.8m      8.7m   \n",
       "1     2  kyliejenner               91   6.9k    366.2m      8.3m   \n",
       "2     3     leomessi               90  0.89k    357.3m      6.8m   \n",
       "3     4  selenagomez               93   1.8k    342.7m      6.2m   \n",
       "4     5      therock               91   6.8k    334.1m      1.9m   \n",
       "\n",
       "  60_day_eng_rate new_post_avg_like total_likes        country  \n",
       "0           1.39%              6.5m       29.0b          Spain  \n",
       "1           1.62%              5.9m       57.4b  United States  \n",
       "2           1.24%              4.4m        6.0b            NaN  \n",
       "3           0.97%              3.3m       11.5b  United States  \n",
       "4           0.20%            665.3k       12.5b  United States  "
      ]
     },
     "execution_count": 71,
     "metadata": {},
     "output_type": "execute_result"
    }
   ],
   "source": [
    "df.head()"
   ]
  },
  {
   "cell_type": "code",
   "execution_count": 72,
   "id": "33bdfbb8",
   "metadata": {},
   "outputs": [
    {
     "data": {
      "text/html": [
       "<div>\n",
       "<style scoped>\n",
       "    .dataframe tbody tr th:only-of-type {\n",
       "        vertical-align: middle;\n",
       "    }\n",
       "\n",
       "    .dataframe tbody tr th {\n",
       "        vertical-align: top;\n",
       "    }\n",
       "\n",
       "    .dataframe thead th {\n",
       "        text-align: right;\n",
       "    }\n",
       "</style>\n",
       "<table border=\"1\" class=\"dataframe\">\n",
       "  <thead>\n",
       "    <tr style=\"text-align: right;\">\n",
       "      <th></th>\n",
       "      <th>rank</th>\n",
       "      <th>channel_info</th>\n",
       "      <th>influence_score</th>\n",
       "      <th>posts</th>\n",
       "      <th>followers</th>\n",
       "      <th>avg_likes</th>\n",
       "      <th>60_day_eng_rate</th>\n",
       "      <th>new_post_avg_like</th>\n",
       "      <th>total_likes</th>\n",
       "      <th>country</th>\n",
       "    </tr>\n",
       "  </thead>\n",
       "  <tbody>\n",
       "    <tr>\n",
       "      <th>195</th>\n",
       "      <td>196</td>\n",
       "      <td>iambeckyg</td>\n",
       "      <td>71</td>\n",
       "      <td>2.3k</td>\n",
       "      <td>33.2m</td>\n",
       "      <td>623.8k</td>\n",
       "      <td>1.40%</td>\n",
       "      <td>464.7k</td>\n",
       "      <td>1.4b</td>\n",
       "      <td>United States</td>\n",
       "    </tr>\n",
       "    <tr>\n",
       "      <th>196</th>\n",
       "      <td>197</td>\n",
       "      <td>nancyajram</td>\n",
       "      <td>81</td>\n",
       "      <td>3.8k</td>\n",
       "      <td>33.2m</td>\n",
       "      <td>390.4k</td>\n",
       "      <td>0.64%</td>\n",
       "      <td>208.0k</td>\n",
       "      <td>1.5b</td>\n",
       "      <td>France</td>\n",
       "    </tr>\n",
       "    <tr>\n",
       "      <th>197</th>\n",
       "      <td>198</td>\n",
       "      <td>luansantana</td>\n",
       "      <td>79</td>\n",
       "      <td>0.77k</td>\n",
       "      <td>33.2m</td>\n",
       "      <td>193.3k</td>\n",
       "      <td>0.26%</td>\n",
       "      <td>82.6k</td>\n",
       "      <td>149.2m</td>\n",
       "      <td>Brazil</td>\n",
       "    </tr>\n",
       "    <tr>\n",
       "      <th>198</th>\n",
       "      <td>199</td>\n",
       "      <td>nickjonas</td>\n",
       "      <td>78</td>\n",
       "      <td>2.3k</td>\n",
       "      <td>33.0m</td>\n",
       "      <td>719.6k</td>\n",
       "      <td>1.42%</td>\n",
       "      <td>467.7k</td>\n",
       "      <td>1.7b</td>\n",
       "      <td>United States</td>\n",
       "    </tr>\n",
       "    <tr>\n",
       "      <th>199</th>\n",
       "      <td>200</td>\n",
       "      <td>raisa6690</td>\n",
       "      <td>80</td>\n",
       "      <td>4.2k</td>\n",
       "      <td>32.8m</td>\n",
       "      <td>232.2k</td>\n",
       "      <td>0.30%</td>\n",
       "      <td>97.4k</td>\n",
       "      <td>969.1m</td>\n",
       "      <td>Indonesia</td>\n",
       "    </tr>\n",
       "  </tbody>\n",
       "</table>\n",
       "</div>"
      ],
      "text/plain": [
       "     rank channel_info  influence_score  posts followers avg_likes  \\\n",
       "195   196    iambeckyg               71   2.3k     33.2m    623.8k   \n",
       "196   197   nancyajram               81   3.8k     33.2m    390.4k   \n",
       "197   198  luansantana               79  0.77k     33.2m    193.3k   \n",
       "198   199    nickjonas               78   2.3k     33.0m    719.6k   \n",
       "199   200    raisa6690               80   4.2k     32.8m    232.2k   \n",
       "\n",
       "    60_day_eng_rate new_post_avg_like total_likes        country  \n",
       "195           1.40%            464.7k        1.4b  United States  \n",
       "196           0.64%            208.0k        1.5b         France  \n",
       "197           0.26%             82.6k      149.2m         Brazil  \n",
       "198           1.42%            467.7k        1.7b  United States  \n",
       "199           0.30%             97.4k      969.1m      Indonesia  "
      ]
     },
     "execution_count": 72,
     "metadata": {},
     "output_type": "execute_result"
    }
   ],
   "source": [
    "df.tail()"
   ]
  },
  {
   "cell_type": "code",
   "execution_count": 73,
   "id": "8e36df5f",
   "metadata": {},
   "outputs": [
    {
     "data": {
      "text/plain": [
       "(200, 10)"
      ]
     },
     "execution_count": 73,
     "metadata": {},
     "output_type": "execute_result"
    }
   ],
   "source": [
    "df.shape"
   ]
  },
  {
   "cell_type": "code",
   "execution_count": 74,
   "id": "ac1c2411",
   "metadata": {},
   "outputs": [
    {
     "data": {
      "text/plain": [
       "Index(['rank', 'channel_info', 'influence_score', 'posts', 'followers',\n",
       "       'avg_likes', '60_day_eng_rate', 'new_post_avg_like', 'total_likes',\n",
       "       'country'],\n",
       "      dtype='object')"
      ]
     },
     "execution_count": 74,
     "metadata": {},
     "output_type": "execute_result"
    }
   ],
   "source": [
    "df.columns"
   ]
  },
  {
   "cell_type": "code",
   "execution_count": 75,
   "id": "829cedec",
   "metadata": {},
   "outputs": [
    {
     "data": {
      "text/plain": [
       "rank                  int64\n",
       "channel_info         object\n",
       "influence_score       int64\n",
       "posts                object\n",
       "followers            object\n",
       "avg_likes            object\n",
       "60_day_eng_rate      object\n",
       "new_post_avg_like    object\n",
       "total_likes          object\n",
       "country              object\n",
       "dtype: object"
      ]
     },
     "execution_count": 75,
     "metadata": {},
     "output_type": "execute_result"
    }
   ],
   "source": [
    "df.dtypes"
   ]
  },
  {
   "cell_type": "code",
   "execution_count": 76,
   "id": "1dabb6ee",
   "metadata": {},
   "outputs": [
    {
     "data": {
      "text/plain": [
       "rank                 200\n",
       "channel_info         200\n",
       "influence_score       32\n",
       "posts                 99\n",
       "followers            165\n",
       "avg_likes            135\n",
       "60_day_eng_rate      147\n",
       "new_post_avg_like    162\n",
       "total_likes          116\n",
       "country               25\n",
       "dtype: int64"
      ]
     },
     "execution_count": 76,
     "metadata": {},
     "output_type": "execute_result"
    }
   ],
   "source": [
    "df.nunique()"
   ]
  },
  {
   "cell_type": "code",
   "execution_count": 77,
   "id": "199ebf41",
   "metadata": {},
   "outputs": [
    {
     "data": {
      "text/html": [
       "<div>\n",
       "<style scoped>\n",
       "    .dataframe tbody tr th:only-of-type {\n",
       "        vertical-align: middle;\n",
       "    }\n",
       "\n",
       "    .dataframe tbody tr th {\n",
       "        vertical-align: top;\n",
       "    }\n",
       "\n",
       "    .dataframe thead th {\n",
       "        text-align: right;\n",
       "    }\n",
       "</style>\n",
       "<table border=\"1\" class=\"dataframe\">\n",
       "  <thead>\n",
       "    <tr style=\"text-align: right;\">\n",
       "      <th></th>\n",
       "      <th>rank</th>\n",
       "      <th>influence_score</th>\n",
       "    </tr>\n",
       "  </thead>\n",
       "  <tbody>\n",
       "    <tr>\n",
       "      <th>count</th>\n",
       "      <td>200.000000</td>\n",
       "      <td>200.000000</td>\n",
       "    </tr>\n",
       "    <tr>\n",
       "      <th>mean</th>\n",
       "      <td>100.500000</td>\n",
       "      <td>81.820000</td>\n",
       "    </tr>\n",
       "    <tr>\n",
       "      <th>std</th>\n",
       "      <td>57.879185</td>\n",
       "      <td>8.878159</td>\n",
       "    </tr>\n",
       "    <tr>\n",
       "      <th>min</th>\n",
       "      <td>1.000000</td>\n",
       "      <td>22.000000</td>\n",
       "    </tr>\n",
       "    <tr>\n",
       "      <th>25%</th>\n",
       "      <td>50.750000</td>\n",
       "      <td>80.000000</td>\n",
       "    </tr>\n",
       "    <tr>\n",
       "      <th>50%</th>\n",
       "      <td>100.500000</td>\n",
       "      <td>84.000000</td>\n",
       "    </tr>\n",
       "    <tr>\n",
       "      <th>75%</th>\n",
       "      <td>150.250000</td>\n",
       "      <td>86.000000</td>\n",
       "    </tr>\n",
       "    <tr>\n",
       "      <th>max</th>\n",
       "      <td>200.000000</td>\n",
       "      <td>93.000000</td>\n",
       "    </tr>\n",
       "  </tbody>\n",
       "</table>\n",
       "</div>"
      ],
      "text/plain": [
       "             rank  influence_score\n",
       "count  200.000000       200.000000\n",
       "mean   100.500000        81.820000\n",
       "std     57.879185         8.878159\n",
       "min      1.000000        22.000000\n",
       "25%     50.750000        80.000000\n",
       "50%    100.500000        84.000000\n",
       "75%    150.250000        86.000000\n",
       "max    200.000000        93.000000"
      ]
     },
     "execution_count": 77,
     "metadata": {},
     "output_type": "execute_result"
    }
   ],
   "source": [
    "df.describe()"
   ]
  },
  {
   "cell_type": "code",
   "execution_count": 78,
   "id": "3ef0e8a0",
   "metadata": {},
   "outputs": [
    {
     "data": {
      "text/plain": [
       "rank  channel_info     influence_score  posts  followers  avg_likes  60_day_eng_rate  new_post_avg_like  total_likes  country      \n",
       "1     cristiano        92               3.3k   475.8m     8.7m       1.39%            6.5m               29.0b        Spain            1\n",
       "132   varundvn         84               1.9k   43.8m      1.1m       1.48%            640.5k             2.0b         India            1\n",
       "122   thenotoriousmma  82               3.2k   45.9m      1.1m       0.69%            311.5k             3.5b         United States    1\n",
       "123   daddyyankee      80               0.02k  45.9m      652.5k     1.00%            455.3k             18.3m        Puerto Rico      1\n",
       "124   natgeotravel     82               16.9k  45.8m      189.9k     0.12%            52.8k              3.2b         United States    1\n",
       "                                                                                                                                      ..\n",
       "55    ronaldinho       78               2.9k   67.7m      872.9k     0.49%            325.7k             2.6b         Brazil           1\n",
       "53    deepikapadukone  83               0.26k  68.4m      1.6m       2.23%            1.5m               419.0m       India            1\n",
       "52    aliaabhatt       82               1.8k   68.7m      1.8m       3.14%            2.1m               3.3b         India            1\n",
       "51    narendramodi     85               0.54k  68.9m      2.9m       3.01%            2.0m               1.6b         India            1\n",
       "200   raisa6690        80               4.2k   32.8m      232.2k     0.30%            97.4k              969.1m       Indonesia        1\n",
       "Length: 138, dtype: int64"
      ]
     },
     "execution_count": 78,
     "metadata": {},
     "output_type": "execute_result"
    }
   ],
   "source": [
    "df.value_counts()"
   ]
  },
  {
   "cell_type": "code",
   "execution_count": 79,
   "id": "2f988267",
   "metadata": {},
   "outputs": [
    {
     "data": {
      "text/plain": [
       "United States             66\n",
       "Brazil                    13\n",
       "India                     12\n",
       "Indonesia                  7\n",
       "France                     6\n",
       "Spain                      5\n",
       "United Kingdom             4\n",
       "Colombia                   3\n",
       "Canada                     3\n",
       "Mexico                     2\n",
       "Turkey                     2\n",
       "Netherlands                2\n",
       "Switzerland                1\n",
       "Germany                    1\n",
       "Czech Republic             1\n",
       "British Virgin Islands     1\n",
       "Sweden                     1\n",
       "Australia                  1\n",
       "Anguilla                   1\n",
       "CÃ´te d'Ivoire             1\n",
       "Puerto Rico                1\n",
       "United Arab Emirates       1\n",
       "Italy                      1\n",
       "Uruguay                    1\n",
       "Russia                     1\n",
       "Name: country, dtype: int64"
      ]
     },
     "execution_count": 79,
     "metadata": {},
     "output_type": "execute_result"
    }
   ],
   "source": [
    "df[\"country\"].value_counts()"
   ]
  },
  {
   "cell_type": "code",
   "execution_count": 80,
   "id": "2c8c9c32",
   "metadata": {},
   "outputs": [
    {
     "data": {
      "text/html": [
       "<div>\n",
       "<style scoped>\n",
       "    .dataframe tbody tr th:only-of-type {\n",
       "        vertical-align: middle;\n",
       "    }\n",
       "\n",
       "    .dataframe tbody tr th {\n",
       "        vertical-align: top;\n",
       "    }\n",
       "\n",
       "    .dataframe thead th {\n",
       "        text-align: right;\n",
       "    }\n",
       "</style>\n",
       "<table border=\"1\" class=\"dataframe\">\n",
       "  <thead>\n",
       "    <tr style=\"text-align: right;\">\n",
       "      <th></th>\n",
       "      <th>rank</th>\n",
       "      <th>channel_info</th>\n",
       "      <th>influence_score</th>\n",
       "      <th>posts</th>\n",
       "      <th>followers</th>\n",
       "      <th>avg_likes</th>\n",
       "      <th>60_day_eng_rate</th>\n",
       "      <th>new_post_avg_like</th>\n",
       "      <th>total_likes</th>\n",
       "      <th>country</th>\n",
       "    </tr>\n",
       "  </thead>\n",
       "  <tbody>\n",
       "    <tr>\n",
       "      <th>0</th>\n",
       "      <td>False</td>\n",
       "      <td>False</td>\n",
       "      <td>False</td>\n",
       "      <td>False</td>\n",
       "      <td>False</td>\n",
       "      <td>False</td>\n",
       "      <td>False</td>\n",
       "      <td>False</td>\n",
       "      <td>False</td>\n",
       "      <td>False</td>\n",
       "    </tr>\n",
       "    <tr>\n",
       "      <th>1</th>\n",
       "      <td>False</td>\n",
       "      <td>False</td>\n",
       "      <td>False</td>\n",
       "      <td>False</td>\n",
       "      <td>False</td>\n",
       "      <td>False</td>\n",
       "      <td>False</td>\n",
       "      <td>False</td>\n",
       "      <td>False</td>\n",
       "      <td>False</td>\n",
       "    </tr>\n",
       "    <tr>\n",
       "      <th>2</th>\n",
       "      <td>False</td>\n",
       "      <td>False</td>\n",
       "      <td>False</td>\n",
       "      <td>False</td>\n",
       "      <td>False</td>\n",
       "      <td>False</td>\n",
       "      <td>False</td>\n",
       "      <td>False</td>\n",
       "      <td>False</td>\n",
       "      <td>True</td>\n",
       "    </tr>\n",
       "    <tr>\n",
       "      <th>3</th>\n",
       "      <td>False</td>\n",
       "      <td>False</td>\n",
       "      <td>False</td>\n",
       "      <td>False</td>\n",
       "      <td>False</td>\n",
       "      <td>False</td>\n",
       "      <td>False</td>\n",
       "      <td>False</td>\n",
       "      <td>False</td>\n",
       "      <td>False</td>\n",
       "    </tr>\n",
       "    <tr>\n",
       "      <th>4</th>\n",
       "      <td>False</td>\n",
       "      <td>False</td>\n",
       "      <td>False</td>\n",
       "      <td>False</td>\n",
       "      <td>False</td>\n",
       "      <td>False</td>\n",
       "      <td>False</td>\n",
       "      <td>False</td>\n",
       "      <td>False</td>\n",
       "      <td>False</td>\n",
       "    </tr>\n",
       "    <tr>\n",
       "      <th>...</th>\n",
       "      <td>...</td>\n",
       "      <td>...</td>\n",
       "      <td>...</td>\n",
       "      <td>...</td>\n",
       "      <td>...</td>\n",
       "      <td>...</td>\n",
       "      <td>...</td>\n",
       "      <td>...</td>\n",
       "      <td>...</td>\n",
       "      <td>...</td>\n",
       "    </tr>\n",
       "    <tr>\n",
       "      <th>195</th>\n",
       "      <td>False</td>\n",
       "      <td>False</td>\n",
       "      <td>False</td>\n",
       "      <td>False</td>\n",
       "      <td>False</td>\n",
       "      <td>False</td>\n",
       "      <td>False</td>\n",
       "      <td>False</td>\n",
       "      <td>False</td>\n",
       "      <td>False</td>\n",
       "    </tr>\n",
       "    <tr>\n",
       "      <th>196</th>\n",
       "      <td>False</td>\n",
       "      <td>False</td>\n",
       "      <td>False</td>\n",
       "      <td>False</td>\n",
       "      <td>False</td>\n",
       "      <td>False</td>\n",
       "      <td>False</td>\n",
       "      <td>False</td>\n",
       "      <td>False</td>\n",
       "      <td>False</td>\n",
       "    </tr>\n",
       "    <tr>\n",
       "      <th>197</th>\n",
       "      <td>False</td>\n",
       "      <td>False</td>\n",
       "      <td>False</td>\n",
       "      <td>False</td>\n",
       "      <td>False</td>\n",
       "      <td>False</td>\n",
       "      <td>False</td>\n",
       "      <td>False</td>\n",
       "      <td>False</td>\n",
       "      <td>False</td>\n",
       "    </tr>\n",
       "    <tr>\n",
       "      <th>198</th>\n",
       "      <td>False</td>\n",
       "      <td>False</td>\n",
       "      <td>False</td>\n",
       "      <td>False</td>\n",
       "      <td>False</td>\n",
       "      <td>False</td>\n",
       "      <td>False</td>\n",
       "      <td>False</td>\n",
       "      <td>False</td>\n",
       "      <td>False</td>\n",
       "    </tr>\n",
       "    <tr>\n",
       "      <th>199</th>\n",
       "      <td>False</td>\n",
       "      <td>False</td>\n",
       "      <td>False</td>\n",
       "      <td>False</td>\n",
       "      <td>False</td>\n",
       "      <td>False</td>\n",
       "      <td>False</td>\n",
       "      <td>False</td>\n",
       "      <td>False</td>\n",
       "      <td>False</td>\n",
       "    </tr>\n",
       "  </tbody>\n",
       "</table>\n",
       "<p>200 rows × 10 columns</p>\n",
       "</div>"
      ],
      "text/plain": [
       "      rank  channel_info  influence_score  posts  followers  avg_likes  \\\n",
       "0    False         False            False  False      False      False   \n",
       "1    False         False            False  False      False      False   \n",
       "2    False         False            False  False      False      False   \n",
       "3    False         False            False  False      False      False   \n",
       "4    False         False            False  False      False      False   \n",
       "..     ...           ...              ...    ...        ...        ...   \n",
       "195  False         False            False  False      False      False   \n",
       "196  False         False            False  False      False      False   \n",
       "197  False         False            False  False      False      False   \n",
       "198  False         False            False  False      False      False   \n",
       "199  False         False            False  False      False      False   \n",
       "\n",
       "     60_day_eng_rate  new_post_avg_like  total_likes  country  \n",
       "0              False              False        False    False  \n",
       "1              False              False        False    False  \n",
       "2              False              False        False     True  \n",
       "3              False              False        False    False  \n",
       "4              False              False        False    False  \n",
       "..               ...                ...          ...      ...  \n",
       "195            False              False        False    False  \n",
       "196            False              False        False    False  \n",
       "197            False              False        False    False  \n",
       "198            False              False        False    False  \n",
       "199            False              False        False    False  \n",
       "\n",
       "[200 rows x 10 columns]"
      ]
     },
     "execution_count": 80,
     "metadata": {},
     "output_type": "execute_result"
    }
   ],
   "source": [
    "df.isnull()"
   ]
  },
  {
   "cell_type": "code",
   "execution_count": 81,
   "id": "d8a2bb87",
   "metadata": {},
   "outputs": [
    {
     "data": {
      "text/plain": [
       "rank                  0\n",
       "channel_info          0\n",
       "influence_score       0\n",
       "posts                 0\n",
       "followers             0\n",
       "avg_likes             0\n",
       "60_day_eng_rate       0\n",
       "new_post_avg_like     0\n",
       "total_likes           0\n",
       "country              62\n",
       "dtype: int64"
      ]
     },
     "execution_count": 81,
     "metadata": {},
     "output_type": "execute_result"
    }
   ],
   "source": [
    "df.isnull().sum()"
   ]
  },
  {
   "cell_type": "code",
   "execution_count": 82,
   "id": "4a2c2a81",
   "metadata": {},
   "outputs": [
    {
     "data": {
      "text/plain": [
       "<Axes: >"
      ]
     },
     "execution_count": 82,
     "metadata": {},
     "output_type": "execute_result"
    },
    {
     "data": {
      "image/png": "[encoded data removed]",
      "text/plain": [
       "<Figure size 640x480 with 2 Axes>"
      ]
     },
     "metadata": {},
     "output_type": "display_data"
    }
   ],
   "source": [
    "sns.heatmap(df.isnull())"
   ]
  },
  {
   "cell_type": "code",
   "execution_count": 83,
   "id": "040d052e",
   "metadata": {},
   "outputs": [
    {
     "data": {
      "text/plain": [
       "0      False\n",
       "1      False\n",
       "2      False\n",
       "3      False\n",
       "4      False\n",
       "       ...  \n",
       "195    False\n",
       "196    False\n",
       "197    False\n",
       "198    False\n",
       "199    False\n",
       "Length: 200, dtype: bool"
      ]
     },
     "execution_count": 83,
     "metadata": {},
     "output_type": "execute_result"
    }
   ],
   "source": [
    "df.duplicated()"
   ]
  },
  {
   "cell_type": "code",
   "execution_count": 84,
   "id": "d4aefb52",
   "metadata": {},
   "outputs": [
    {
     "data": {
      "text/html": [
       "<div>\n",
       "<style scoped>\n",
       "    .dataframe tbody tr th:only-of-type {\n",
       "        vertical-align: middle;\n",
       "    }\n",
       "\n",
       "    .dataframe tbody tr th {\n",
       "        vertical-align: top;\n",
       "    }\n",
       "\n",
       "    .dataframe thead th {\n",
       "        text-align: right;\n",
       "    }\n",
       "</style>\n",
       "<table border=\"1\" class=\"dataframe\">\n",
       "  <thead>\n",
       "    <tr style=\"text-align: right;\">\n",
       "      <th></th>\n",
       "      <th>rank</th>\n",
       "      <th>channel_info</th>\n",
       "      <th>influence_score</th>\n",
       "      <th>posts</th>\n",
       "      <th>followers</th>\n",
       "      <th>avg_likes</th>\n",
       "      <th>60_day_eng_rate</th>\n",
       "      <th>new_post_avg_like</th>\n",
       "      <th>total_likes</th>\n",
       "      <th>country</th>\n",
       "    </tr>\n",
       "  </thead>\n",
       "  <tbody>\n",
       "    <tr>\n",
       "      <th>0</th>\n",
       "      <td>1</td>\n",
       "      <td>cristiano</td>\n",
       "      <td>92</td>\n",
       "      <td>3.3k</td>\n",
       "      <td>475.8m</td>\n",
       "      <td>8.7m</td>\n",
       "      <td>1.39%</td>\n",
       "      <td>6.5m</td>\n",
       "      <td>29.0b</td>\n",
       "      <td>Spain</td>\n",
       "    </tr>\n",
       "    <tr>\n",
       "      <th>1</th>\n",
       "      <td>2</td>\n",
       "      <td>kyliejenner</td>\n",
       "      <td>91</td>\n",
       "      <td>6.9k</td>\n",
       "      <td>366.2m</td>\n",
       "      <td>8.3m</td>\n",
       "      <td>1.62%</td>\n",
       "      <td>5.9m</td>\n",
       "      <td>57.4b</td>\n",
       "      <td>United States</td>\n",
       "    </tr>\n",
       "    <tr>\n",
       "      <th>2</th>\n",
       "      <td>3</td>\n",
       "      <td>leomessi</td>\n",
       "      <td>90</td>\n",
       "      <td>0.89k</td>\n",
       "      <td>357.3m</td>\n",
       "      <td>6.8m</td>\n",
       "      <td>1.24%</td>\n",
       "      <td>4.4m</td>\n",
       "      <td>6.0b</td>\n",
       "      <td>NaN</td>\n",
       "    </tr>\n",
       "    <tr>\n",
       "      <th>3</th>\n",
       "      <td>4</td>\n",
       "      <td>selenagomez</td>\n",
       "      <td>93</td>\n",
       "      <td>1.8k</td>\n",
       "      <td>342.7m</td>\n",
       "      <td>6.2m</td>\n",
       "      <td>0.97%</td>\n",
       "      <td>3.3m</td>\n",
       "      <td>11.5b</td>\n",
       "      <td>United States</td>\n",
       "    </tr>\n",
       "    <tr>\n",
       "      <th>4</th>\n",
       "      <td>5</td>\n",
       "      <td>therock</td>\n",
       "      <td>91</td>\n",
       "      <td>6.8k</td>\n",
       "      <td>334.1m</td>\n",
       "      <td>1.9m</td>\n",
       "      <td>0.20%</td>\n",
       "      <td>665.3k</td>\n",
       "      <td>12.5b</td>\n",
       "      <td>United States</td>\n",
       "    </tr>\n",
       "    <tr>\n",
       "      <th>...</th>\n",
       "      <td>...</td>\n",
       "      <td>...</td>\n",
       "      <td>...</td>\n",
       "      <td>...</td>\n",
       "      <td>...</td>\n",
       "      <td>...</td>\n",
       "      <td>...</td>\n",
       "      <td>...</td>\n",
       "      <td>...</td>\n",
       "      <td>...</td>\n",
       "    </tr>\n",
       "    <tr>\n",
       "      <th>195</th>\n",
       "      <td>196</td>\n",
       "      <td>iambeckyg</td>\n",
       "      <td>71</td>\n",
       "      <td>2.3k</td>\n",
       "      <td>33.2m</td>\n",
       "      <td>623.8k</td>\n",
       "      <td>1.40%</td>\n",
       "      <td>464.7k</td>\n",
       "      <td>1.4b</td>\n",
       "      <td>United States</td>\n",
       "    </tr>\n",
       "    <tr>\n",
       "      <th>196</th>\n",
       "      <td>197</td>\n",
       "      <td>nancyajram</td>\n",
       "      <td>81</td>\n",
       "      <td>3.8k</td>\n",
       "      <td>33.2m</td>\n",
       "      <td>390.4k</td>\n",
       "      <td>0.64%</td>\n",
       "      <td>208.0k</td>\n",
       "      <td>1.5b</td>\n",
       "      <td>France</td>\n",
       "    </tr>\n",
       "    <tr>\n",
       "      <th>197</th>\n",
       "      <td>198</td>\n",
       "      <td>luansantana</td>\n",
       "      <td>79</td>\n",
       "      <td>0.77k</td>\n",
       "      <td>33.2m</td>\n",
       "      <td>193.3k</td>\n",
       "      <td>0.26%</td>\n",
       "      <td>82.6k</td>\n",
       "      <td>149.2m</td>\n",
       "      <td>Brazil</td>\n",
       "    </tr>\n",
       "    <tr>\n",
       "      <th>198</th>\n",
       "      <td>199</td>\n",
       "      <td>nickjonas</td>\n",
       "      <td>78</td>\n",
       "      <td>2.3k</td>\n",
       "      <td>33.0m</td>\n",
       "      <td>719.6k</td>\n",
       "      <td>1.42%</td>\n",
       "      <td>467.7k</td>\n",
       "      <td>1.7b</td>\n",
       "      <td>United States</td>\n",
       "    </tr>\n",
       "    <tr>\n",
       "      <th>199</th>\n",
       "      <td>200</td>\n",
       "      <td>raisa6690</td>\n",
       "      <td>80</td>\n",
       "      <td>4.2k</td>\n",
       "      <td>32.8m</td>\n",
       "      <td>232.2k</td>\n",
       "      <td>0.30%</td>\n",
       "      <td>97.4k</td>\n",
       "      <td>969.1m</td>\n",
       "      <td>Indonesia</td>\n",
       "    </tr>\n",
       "  </tbody>\n",
       "</table>\n",
       "<p>200 rows × 10 columns</p>\n",
       "</div>"
      ],
      "text/plain": [
       "     rank channel_info  influence_score  posts followers avg_likes  \\\n",
       "0       1    cristiano               92   3.3k    475.8m      8.7m   \n",
       "1       2  kyliejenner               91   6.9k    366.2m      8.3m   \n",
       "2       3     leomessi               90  0.89k    357.3m      6.8m   \n",
       "3       4  selenagomez               93   1.8k    342.7m      6.2m   \n",
       "4       5      therock               91   6.8k    334.1m      1.9m   \n",
       "..    ...          ...              ...    ...       ...       ...   \n",
       "195   196    iambeckyg               71   2.3k     33.2m    623.8k   \n",
       "196   197   nancyajram               81   3.8k     33.2m    390.4k   \n",
       "197   198  luansantana               79  0.77k     33.2m    193.3k   \n",
       "198   199    nickjonas               78   2.3k     33.0m    719.6k   \n",
       "199   200    raisa6690               80   4.2k     32.8m    232.2k   \n",
       "\n",
       "    60_day_eng_rate new_post_avg_like total_likes        country  \n",
       "0             1.39%              6.5m       29.0b          Spain  \n",
       "1             1.62%              5.9m       57.4b  United States  \n",
       "2             1.24%              4.4m        6.0b            NaN  \n",
       "3             0.97%              3.3m       11.5b  United States  \n",
       "4             0.20%            665.3k       12.5b  United States  \n",
       "..              ...               ...         ...            ...  \n",
       "195           1.40%            464.7k        1.4b  United States  \n",
       "196           0.64%            208.0k        1.5b         France  \n",
       "197           0.26%             82.6k      149.2m         Brazil  \n",
       "198           1.42%            467.7k        1.7b  United States  \n",
       "199           0.30%             97.4k      969.1m      Indonesia  \n",
       "\n",
       "[200 rows x 10 columns]"
      ]
     },
     "execution_count": 84,
     "metadata": {},
     "output_type": "execute_result"
    }
   ],
   "source": [
    "df"
   ]
  },
  {
   "cell_type": "markdown",
   "id": "043a1c59",
   "metadata": {},
   "source": [
    "# Analysis"
   ]
  },
  {
   "cell_type": "markdown",
   "id": "3e496395",
   "metadata": {},
   "source": [
    " # Top Instagram Performers with the Largest Follower Counts"
   ]
  },
  {
   "cell_type": "code",
   "execution_count": 123,
   "id": "2a3f0cce",
   "metadata": {},
   "outputs": [
    {
     "data": {
      "text/html": [
       "<div>\n",
       "<style scoped>\n",
       "    .dataframe tbody tr th:only-of-type {\n",
       "        vertical-align: middle;\n",
       "    }\n",
       "\n",
       "    .dataframe tbody tr th {\n",
       "        vertical-align: top;\n",
       "    }\n",
       "\n",
       "    .dataframe thead th {\n",
       "        text-align: right;\n",
       "    }\n",
       "</style>\n",
       "<table border=\"1\" class=\"dataframe\">\n",
       "  <thead>\n",
       "    <tr style=\"text-align: right;\">\n",
       "      <th></th>\n",
       "      <th>rank</th>\n",
       "      <th>channel_info</th>\n",
       "      <th>influence_score</th>\n",
       "      <th>posts</th>\n",
       "      <th>followers</th>\n",
       "      <th>avg_likes</th>\n",
       "      <th>60_day_eng_rate</th>\n",
       "      <th>new_post_avg_like</th>\n",
       "      <th>total_likes</th>\n",
       "      <th>country</th>\n",
       "    </tr>\n",
       "  </thead>\n",
       "  <tbody>\n",
       "    <tr>\n",
       "      <th>0</th>\n",
       "      <td>1</td>\n",
       "      <td>cristiano</td>\n",
       "      <td>92</td>\n",
       "      <td>3.3k</td>\n",
       "      <td>475.8</td>\n",
       "      <td>8.7m</td>\n",
       "      <td>1.39%</td>\n",
       "      <td>6.5m</td>\n",
       "      <td>29.0b</td>\n",
       "      <td>Spain</td>\n",
       "    </tr>\n",
       "    <tr>\n",
       "      <th>1</th>\n",
       "      <td>2</td>\n",
       "      <td>kyliejenner</td>\n",
       "      <td>91</td>\n",
       "      <td>6.9k</td>\n",
       "      <td>366.2</td>\n",
       "      <td>8.3m</td>\n",
       "      <td>1.62%</td>\n",
       "      <td>5.9m</td>\n",
       "      <td>57.4b</td>\n",
       "      <td>United States</td>\n",
       "    </tr>\n",
       "    <tr>\n",
       "      <th>3</th>\n",
       "      <td>4</td>\n",
       "      <td>selenagomez</td>\n",
       "      <td>93</td>\n",
       "      <td>1.8k</td>\n",
       "      <td>342.7</td>\n",
       "      <td>6.2m</td>\n",
       "      <td>0.97%</td>\n",
       "      <td>3.3m</td>\n",
       "      <td>11.5b</td>\n",
       "      <td>United States</td>\n",
       "    </tr>\n",
       "    <tr>\n",
       "      <th>4</th>\n",
       "      <td>5</td>\n",
       "      <td>therock</td>\n",
       "      <td>91</td>\n",
       "      <td>6.8k</td>\n",
       "      <td>334.1</td>\n",
       "      <td>1.9m</td>\n",
       "      <td>0.20%</td>\n",
       "      <td>665.3k</td>\n",
       "      <td>12.5b</td>\n",
       "      <td>United States</td>\n",
       "    </tr>\n",
       "    <tr>\n",
       "      <th>5</th>\n",
       "      <td>6</td>\n",
       "      <td>kimkardashian</td>\n",
       "      <td>91</td>\n",
       "      <td>5.6k</td>\n",
       "      <td>329.2</td>\n",
       "      <td>3.5m</td>\n",
       "      <td>0.88%</td>\n",
       "      <td>2.9m</td>\n",
       "      <td>19.9b</td>\n",
       "      <td>United States</td>\n",
       "    </tr>\n",
       "    <tr>\n",
       "      <th>...</th>\n",
       "      <td>...</td>\n",
       "      <td>...</td>\n",
       "      <td>...</td>\n",
       "      <td>...</td>\n",
       "      <td>...</td>\n",
       "      <td>...</td>\n",
       "      <td>...</td>\n",
       "      <td>...</td>\n",
       "      <td>...</td>\n",
       "      <td>...</td>\n",
       "    </tr>\n",
       "    <tr>\n",
       "      <th>195</th>\n",
       "      <td>196</td>\n",
       "      <td>iambeckyg</td>\n",
       "      <td>71</td>\n",
       "      <td>2.3k</td>\n",
       "      <td>33.2</td>\n",
       "      <td>623.8k</td>\n",
       "      <td>1.40%</td>\n",
       "      <td>464.7k</td>\n",
       "      <td>1.4b</td>\n",
       "      <td>United States</td>\n",
       "    </tr>\n",
       "    <tr>\n",
       "      <th>196</th>\n",
       "      <td>197</td>\n",
       "      <td>nancyajram</td>\n",
       "      <td>81</td>\n",
       "      <td>3.8k</td>\n",
       "      <td>33.2</td>\n",
       "      <td>390.4k</td>\n",
       "      <td>0.64%</td>\n",
       "      <td>208.0k</td>\n",
       "      <td>1.5b</td>\n",
       "      <td>France</td>\n",
       "    </tr>\n",
       "    <tr>\n",
       "      <th>197</th>\n",
       "      <td>198</td>\n",
       "      <td>luansantana</td>\n",
       "      <td>79</td>\n",
       "      <td>0.77k</td>\n",
       "      <td>33.2</td>\n",
       "      <td>193.3k</td>\n",
       "      <td>0.26%</td>\n",
       "      <td>82.6k</td>\n",
       "      <td>149.2m</td>\n",
       "      <td>Brazil</td>\n",
       "    </tr>\n",
       "    <tr>\n",
       "      <th>198</th>\n",
       "      <td>199</td>\n",
       "      <td>nickjonas</td>\n",
       "      <td>78</td>\n",
       "      <td>2.3k</td>\n",
       "      <td>33.0</td>\n",
       "      <td>719.6k</td>\n",
       "      <td>1.42%</td>\n",
       "      <td>467.7k</td>\n",
       "      <td>1.7b</td>\n",
       "      <td>United States</td>\n",
       "    </tr>\n",
       "    <tr>\n",
       "      <th>199</th>\n",
       "      <td>200</td>\n",
       "      <td>raisa6690</td>\n",
       "      <td>80</td>\n",
       "      <td>4.2k</td>\n",
       "      <td>32.8</td>\n",
       "      <td>232.2k</td>\n",
       "      <td>0.30%</td>\n",
       "      <td>97.4k</td>\n",
       "      <td>969.1m</td>\n",
       "      <td>Indonesia</td>\n",
       "    </tr>\n",
       "  </tbody>\n",
       "</table>\n",
       "<p>138 rows × 10 columns</p>\n",
       "</div>"
      ],
      "text/plain": [
       "     rank   channel_info  influence_score  posts  followers avg_likes  \\\n",
       "0       1      cristiano               92   3.3k      475.8      8.7m   \n",
       "1       2    kyliejenner               91   6.9k      366.2      8.3m   \n",
       "3       4    selenagomez               93   1.8k      342.7      6.2m   \n",
       "4       5        therock               91   6.8k      334.1      1.9m   \n",
       "5       6  kimkardashian               91   5.6k      329.2      3.5m   \n",
       "..    ...            ...              ...    ...        ...       ...   \n",
       "195   196      iambeckyg               71   2.3k       33.2    623.8k   \n",
       "196   197     nancyajram               81   3.8k       33.2    390.4k   \n",
       "197   198    luansantana               79  0.77k       33.2    193.3k   \n",
       "198   199      nickjonas               78   2.3k       33.0    719.6k   \n",
       "199   200      raisa6690               80   4.2k       32.8    232.2k   \n",
       "\n",
       "    60_day_eng_rate new_post_avg_like total_likes        country  \n",
       "0             1.39%              6.5m       29.0b          Spain  \n",
       "1             1.62%              5.9m       57.4b  United States  \n",
       "3             0.97%              3.3m       11.5b  United States  \n",
       "4             0.20%            665.3k       12.5b  United States  \n",
       "5             0.88%              2.9m       19.9b  United States  \n",
       "..              ...               ...         ...            ...  \n",
       "195           1.40%            464.7k        1.4b  United States  \n",
       "196           0.64%            208.0k        1.5b         France  \n",
       "197           0.26%             82.6k      149.2m         Brazil  \n",
       "198           1.42%            467.7k        1.7b  United States  \n",
       "199           0.30%             97.4k      969.1m      Indonesia  \n",
       "\n",
       "[138 rows x 10 columns]"
      ]
     },
     "execution_count": 123,
     "metadata": {},
     "output_type": "execute_result"
    }
   ],
   "source": [
    "top_performers = df.sort_values(by=\"rank\")\n",
    "top_performers"
   ]
  },
  {
   "cell_type": "code",
   "execution_count": 86,
   "id": "a1257fc7",
   "metadata": {},
   "outputs": [],
   "source": [
    "# Inference: Top Instagram performers are Cristiano, KylieJenner, SelenaGomez, TheRock, KimKardashian."
   ]
  },
  {
   "cell_type": "markdown",
   "id": "4ae6c20a",
   "metadata": {},
   "source": [
    "# Correlation between followers and rank"
   ]
  },
  {
   "cell_type": "code",
   "execution_count": 87,
   "id": "8acd508c",
   "metadata": {},
   "outputs": [],
   "source": [
    "df.dropna(inplace=True)"
   ]
  },
  {
   "cell_type": "code",
   "execution_count": 88,
   "id": "f0d92f9a",
   "metadata": {},
   "outputs": [],
   "source": [
    "df['followers'] = df['followers'].str.replace('m', '').astype(float)\n"
   ]
  },
  {
   "cell_type": "code",
   "execution_count": 89,
   "id": "882d8511",
   "metadata": {},
   "outputs": [],
   "source": [
    "df[\"followers\"] = pd.to_numeric(df[\"followers\"])\n",
    "df[\"rank\"] = pd.to_numeric(df[\"rank\"])"
   ]
  },
  {
   "cell_type": "code",
   "execution_count": 90,
   "id": "0f100a87",
   "metadata": {},
   "outputs": [
    {
     "data": {
      "text/plain": [
       "-0.7024392307952165"
      ]
     },
     "execution_count": 90,
     "metadata": {},
     "output_type": "execute_result"
    }
   ],
   "source": [
    "correlation = df[\"followers\"].corr(df['rank'])\n",
    "correlation"
   ]
  },
  {
   "cell_type": "code",
   "execution_count": 91,
   "id": "83d05159",
   "metadata": {},
   "outputs": [],
   "source": [
    "# Inference: a correlation coefficient of -0.92 between \"followers\" and \"rank\" means there is a strong negative relationship between these variables, where higher ranks are associated with lower follower counts, and lower ranks are associated with higher follower counts among Instagram influencers in your dataset."
   ]
  },
  {
   "cell_type": "markdown",
   "id": "c7da174d",
   "metadata": {},
   "source": [
    "# Average number of followers"
   ]
  },
  {
   "cell_type": "code",
   "execution_count": 92,
   "id": "de51239b",
   "metadata": {},
   "outputs": [
    {
     "data": {
      "text/plain": [
       "83.72608695652174"
      ]
     },
     "execution_count": 92,
     "metadata": {},
     "output_type": "execute_result"
    }
   ],
   "source": [
    "avg_followers = df[\"followers\"].mean()\n",
    "avg_followers"
   ]
  },
  {
   "cell_type": "code",
   "execution_count": 93,
   "id": "b0a7f61a",
   "metadata": {},
   "outputs": [],
   "source": [
    "# Inference:This value represents the central tendency or the typical value of the \"followers\" variable in our dataset. Specifically, it means that, on average, Instagram influencers in our dataset have approximately 83.7."
   ]
  },
  {
   "cell_type": "markdown",
   "id": "4e05fdb1",
   "metadata": {},
   "source": [
    "# Countries with the Highest Number of Performers\n",
    "\n",
    "\n",
    "\n"
   ]
  },
  {
   "cell_type": "code",
   "execution_count": 94,
   "id": "3a2cf0cb",
   "metadata": {
    "scrolled": true
   },
   "outputs": [
    {
     "data": {
      "text/plain": [
       "United States             66\n",
       "Brazil                    13\n",
       "India                     12\n",
       "Indonesia                  7\n",
       "France                     6\n",
       "Spain                      5\n",
       "United Kingdom             4\n",
       "Colombia                   3\n",
       "Canada                     3\n",
       "Mexico                     2\n",
       "Turkey                     2\n",
       "Netherlands                2\n",
       "Switzerland                1\n",
       "Germany                    1\n",
       "Czech Republic             1\n",
       "British Virgin Islands     1\n",
       "Sweden                     1\n",
       "Australia                  1\n",
       "Anguilla                   1\n",
       "CÃ´te d'Ivoire             1\n",
       "Puerto Rico                1\n",
       "United Arab Emirates       1\n",
       "Italy                      1\n",
       "Uruguay                    1\n",
       "Russia                     1\n",
       "Name: country, dtype: int64"
      ]
     },
     "execution_count": 94,
     "metadata": {},
     "output_type": "execute_result"
    }
   ],
   "source": [
    "country_counts= df[\"country\"].value_counts()\n",
    "country_counts"
   ]
  },
  {
   "cell_type": "code",
   "execution_count": 95,
   "id": "7d4eb2cc",
   "metadata": {},
   "outputs": [],
   "source": [
    "# Inference: Countries with the highest number of performers are United States, Brazil and India."
   ]
  },
  {
   "cell_type": "markdown",
   "id": "4078f912",
   "metadata": {},
   "source": [
    "# Relationship between Rank and Follower Count"
   ]
  },
  {
   "cell_type": "code",
   "execution_count": 97,
   "id": "721221a2",
   "metadata": {},
   "outputs": [
    {
     "ename": "TypeError",
     "evalue": "'function' object is not subscriptable",
     "output_type": "error",
     "traceback": [
      "\u001b[1;31m---------------------------------------------------------------------------\u001b[0m",
      "\u001b[1;31mTypeError\u001b[0m                                 Traceback (most recent call last)",
      "Cell \u001b[1;32mIn[97], line 2\u001b[0m\n\u001b[0;32m      1\u001b[0m plt\u001b[38;5;241m.\u001b[39mscatter(x\u001b[38;5;241m=\u001b[39mdf[\u001b[38;5;124m\"\u001b[39m\u001b[38;5;124mrank\u001b[39m\u001b[38;5;124m\"\u001b[39m], y\u001b[38;5;241m=\u001b[39mdf[\u001b[38;5;124m\"\u001b[39m\u001b[38;5;124mfollowers\u001b[39m\u001b[38;5;124m\"\u001b[39m], color \u001b[38;5;241m=\u001b[39m \u001b[38;5;124m'\u001b[39m\u001b[38;5;124mBrown\u001b[39m\u001b[38;5;124m'\u001b[39m)\n\u001b[1;32m----> 2\u001b[0m plt\u001b[38;5;241m.\u001b[39mtitle[\u001b[38;5;124m\"\u001b[39m\u001b[38;5;124mRank vs Followers count\u001b[39m\u001b[38;5;124m\"\u001b[39m]\n\u001b[0;32m      3\u001b[0m plt\u001b[38;5;241m.\u001b[39mxlable[\u001b[38;5;124m\"\u001b[39m\u001b[38;5;124mRank\u001b[39m\u001b[38;5;124m\"\u001b[39m]\n\u001b[0;32m      4\u001b[0m plt\u001b[38;5;241m.\u001b[39mylable[\u001b[38;5;124m\"\u001b[39m\u001b[38;5;124mfollowers\u001b[39m\u001b[38;5;124m\"\u001b[39m]\n",
      "\u001b[1;31mTypeError\u001b[0m: 'function' object is not subscriptable"
     ]
    },
    {
     "data": {
      "image/png": "[encoded data removed]",
      "text/plain": [
       "<Figure size 640x480 with 1 Axes>"
      ]
     },
     "metadata": {},
     "output_type": "display_data"
    }
   ],
   "source": [
    "plt.scatter(x=df[\"rank\"], y=df[\"followers\"], color = 'Brown')\n",
    "plt.title[\"Rank vs Followers count\"]\n",
    "plt.xlable[\"Rank\"]\n",
    "plt.ylable[\"followers\"]"
   ]
  },
  {
   "cell_type": "code",
   "execution_count": 98,
   "id": "aa3662c1",
   "metadata": {},
   "outputs": [
    {
     "data": {
      "text/plain": [
       "<Axes: >"
      ]
     },
     "execution_count": 98,
     "metadata": {},
     "output_type": "execute_result"
    },
    {
     "data": {
      "image/png": "[encoded data removed]",
      "text/plain": [
       "<Figure size 640x480 with 1 Axes>"
      ]
     },
     "metadata": {},
     "output_type": "display_data"
    }
   ],
   "source": [
    "df.country.value_counts().plot(kind=\"bar\")"
   ]
  },
  {
   "cell_type": "markdown",
   "id": "4ce662be",
   "metadata": {},
   "source": [
    "# Country Map"
   ]
  },
  {
   "cell_type": "code",
   "execution_count": 104,
   "id": "2a74bc9e",
   "metadata": {},
   "outputs": [
    {
     "data": {
      "text/html": [
       "<div>\n",
       "<style scoped>\n",
       "    .dataframe tbody tr th:only-of-type {\n",
       "        vertical-align: middle;\n",
       "    }\n",
       "\n",
       "    .dataframe tbody tr th {\n",
       "        vertical-align: top;\n",
       "    }\n",
       "\n",
       "    .dataframe thead th {\n",
       "        text-align: right;\n",
       "    }\n",
       "</style>\n",
       "<table border=\"1\" class=\"dataframe\">\n",
       "  <thead>\n",
       "    <tr style=\"text-align: right;\">\n",
       "      <th></th>\n",
       "      <th>country</th>\n",
       "      <th>Size</th>\n",
       "    </tr>\n",
       "  </thead>\n",
       "  <tbody>\n",
       "    <tr>\n",
       "      <th>0</th>\n",
       "      <td>Anguilla</td>\n",
       "      <td>1</td>\n",
       "    </tr>\n",
       "    <tr>\n",
       "      <th>1</th>\n",
       "      <td>Australia</td>\n",
       "      <td>1</td>\n",
       "    </tr>\n",
       "    <tr>\n",
       "      <th>2</th>\n",
       "      <td>Brazil</td>\n",
       "      <td>13</td>\n",
       "    </tr>\n",
       "    <tr>\n",
       "      <th>3</th>\n",
       "      <td>British Virgin Islands</td>\n",
       "      <td>1</td>\n",
       "    </tr>\n",
       "    <tr>\n",
       "      <th>4</th>\n",
       "      <td>Canada</td>\n",
       "      <td>3</td>\n",
       "    </tr>\n",
       "    <tr>\n",
       "      <th>5</th>\n",
       "      <td>Colombia</td>\n",
       "      <td>3</td>\n",
       "    </tr>\n",
       "    <tr>\n",
       "      <th>6</th>\n",
       "      <td>Czech Republic</td>\n",
       "      <td>1</td>\n",
       "    </tr>\n",
       "    <tr>\n",
       "      <th>7</th>\n",
       "      <td>CÃ´te d'Ivoire</td>\n",
       "      <td>1</td>\n",
       "    </tr>\n",
       "    <tr>\n",
       "      <th>8</th>\n",
       "      <td>France</td>\n",
       "      <td>6</td>\n",
       "    </tr>\n",
       "    <tr>\n",
       "      <th>9</th>\n",
       "      <td>Germany</td>\n",
       "      <td>1</td>\n",
       "    </tr>\n",
       "    <tr>\n",
       "      <th>10</th>\n",
       "      <td>India</td>\n",
       "      <td>12</td>\n",
       "    </tr>\n",
       "    <tr>\n",
       "      <th>11</th>\n",
       "      <td>Indonesia</td>\n",
       "      <td>7</td>\n",
       "    </tr>\n",
       "    <tr>\n",
       "      <th>12</th>\n",
       "      <td>Italy</td>\n",
       "      <td>1</td>\n",
       "    </tr>\n",
       "    <tr>\n",
       "      <th>13</th>\n",
       "      <td>Mexico</td>\n",
       "      <td>2</td>\n",
       "    </tr>\n",
       "    <tr>\n",
       "      <th>14</th>\n",
       "      <td>Netherlands</td>\n",
       "      <td>2</td>\n",
       "    </tr>\n",
       "    <tr>\n",
       "      <th>15</th>\n",
       "      <td>Puerto Rico</td>\n",
       "      <td>1</td>\n",
       "    </tr>\n",
       "    <tr>\n",
       "      <th>16</th>\n",
       "      <td>Russia</td>\n",
       "      <td>1</td>\n",
       "    </tr>\n",
       "    <tr>\n",
       "      <th>17</th>\n",
       "      <td>Spain</td>\n",
       "      <td>5</td>\n",
       "    </tr>\n",
       "    <tr>\n",
       "      <th>18</th>\n",
       "      <td>Sweden</td>\n",
       "      <td>1</td>\n",
       "    </tr>\n",
       "    <tr>\n",
       "      <th>19</th>\n",
       "      <td>Switzerland</td>\n",
       "      <td>1</td>\n",
       "    </tr>\n",
       "    <tr>\n",
       "      <th>20</th>\n",
       "      <td>Turkey</td>\n",
       "      <td>2</td>\n",
       "    </tr>\n",
       "    <tr>\n",
       "      <th>21</th>\n",
       "      <td>United Arab Emirates</td>\n",
       "      <td>1</td>\n",
       "    </tr>\n",
       "    <tr>\n",
       "      <th>22</th>\n",
       "      <td>United Kingdom</td>\n",
       "      <td>4</td>\n",
       "    </tr>\n",
       "    <tr>\n",
       "      <th>23</th>\n",
       "      <td>United States</td>\n",
       "      <td>66</td>\n",
       "    </tr>\n",
       "    <tr>\n",
       "      <th>24</th>\n",
       "      <td>Uruguay</td>\n",
       "      <td>1</td>\n",
       "    </tr>\n",
       "  </tbody>\n",
       "</table>\n",
       "</div>"
      ],
      "text/plain": [
       "                   country  Size\n",
       "0                 Anguilla     1\n",
       "1                Australia     1\n",
       "2                   Brazil    13\n",
       "3   British Virgin Islands     1\n",
       "4                   Canada     3\n",
       "5                 Colombia     3\n",
       "6           Czech Republic     1\n",
       "7           CÃ´te d'Ivoire     1\n",
       "8                   France     6\n",
       "9                  Germany     1\n",
       "10                   India    12\n",
       "11               Indonesia     7\n",
       "12                   Italy     1\n",
       "13                  Mexico     2\n",
       "14             Netherlands     2\n",
       "15             Puerto Rico     1\n",
       "16                  Russia     1\n",
       "17                   Spain     5\n",
       "18                  Sweden     1\n",
       "19             Switzerland     1\n",
       "20                  Turkey     2\n",
       "21    United Arab Emirates     1\n",
       "22          United Kingdom     4\n",
       "23           United States    66\n",
       "24                 Uruguay     1"
      ]
     },
     "execution_count": 104,
     "metadata": {},
     "output_type": "execute_result"
    }
   ],
   "source": [
    "df1 = df.groupby('country').size().reset_index(name='Size')\n",
    "df1"
   ]
  },
  {
   "cell_type": "code",
   "execution_count": 116,
   "id": "224aec3d",
   "metadata": {
    "scrolled": true
   },
   "outputs": [
    {
     "data": {
      "application/vnd.plotly.v1+json": {
       "config": {
        "plotlyServerURL": "https://plot.ly"
       },
       "data": [
        {
         "colorbar": {
          "title": {
           "text": "Influencers Country"
          }
         },
         "colorscale": [
          [
           0,
           "#30123b"
          ],
          [
           0.07142857142857142,
           "#4145ab"
          ],
          [
           0.14285714285714285,
           "#4675ed"
          ],
          [
           0.21428571428571427,
           "#39a2fc"
          ],
          [
           0.2857142857142857,
           "#1bcfd4"
          ],
          [
           0.35714285714285715,
           "#24eca6"
          ],
          [
           0.42857142857142855,
           "#61fc6c"
          ],
          [
           0.5,
           "#a4fc3b"
          ],
          [
           0.5714285714285714,
           "#d1e834"
          ],
          [
           0.6428571428571429,
           "#f3c63a"
          ],
          [
           0.7142857142857143,
           "#fe9b2d"
          ],
          [
           0.7857142857142857,
           "#f36315"
          ],
          [
           0.8571428571428571,
           "#d93806"
          ],
          [
           0.9285714285714286,
           "#b11901"
          ],
          [
           1,
           "#7a0402"
          ]
         ],
         "locationmode": "country names",
         "locations": [
          "Anguilla",
          "Australia",
          "Brazil",
          "British Virgin Islands",
          "Canada",
          "Colombia",
          "Czech Republic",
          "CÃ´te d'Ivoire",
          "France",
          "Germany",
          "India",
          "Indonesia",
          "Italy",
          "Mexico",
          "Netherlands",
          "Puerto Rico",
          "Russia",
          "Spain",
          "Sweden",
          "Switzerland",
          "Turkey",
          "United Arab Emirates",
          "United Kingdom",
          "United States",
          "Uruguay"
         ],
         "marker": {
          "line": {
           "color": "rgb(255,255,255)",
           "width": 2
          }
         },
         "type": "choropleth",
         "z": [
          1,
          1,
          13,
          1,
          3,
          3,
          1,
          1,
          6,
          1,
          12,
          7,
          1,
          2,
          2,
          1,
          1,
          5,
          1,
          1,
          2,
          1,
          4,
          66,
          1
         ]
        }
       ],
       "layout": {
        "geo": {
         "scope": "world"
        },
        "template": {
         "data": {
          "bar": [
           {
            "error_x": {
             "color": "#2a3f5f"
            },
            "error_y": {
             "color": "#2a3f5f"
            },
            "marker": {
             "line": {
              "color": "#E5ECF6",
              "width": 0.5
             },
             "pattern": {
              "fillmode": "overlay",
              "size": 10,
              "solidity": 0.2
             }
            },
            "type": "bar"
           }
          ],
          "barpolar": [
           {
            "marker": {
             "line": {
              "color": "#E5ECF6",
              "width": 0.5
             },
             "pattern": {
              "fillmode": "overlay",
              "size": 10,
              "solidity": 0.2
             }
            },
            "type": "barpolar"
           }
          ],
          "carpet": [
           {
            "aaxis": {
             "endlinecolor": "#2a3f5f",
             "gridcolor": "white",
             "linecolor": "white",
             "minorgridcolor": "white",
             "startlinecolor": "#2a3f5f"
            },
            "baxis": {
             "endlinecolor": "#2a3f5f",
             "gridcolor": "white",
             "linecolor": "white",
             "minorgridcolor": "white",
             "startlinecolor": "#2a3f5f"
            },
            "type": "carpet"
           }
          ],
          "choropleth": [
           {
            "colorbar": {
             "outlinewidth": 0,
             "ticks": ""
            },
            "type": "choropleth"
           }
          ],
          "contour": [
           {
            "colorbar": {
             "outlinewidth": 0,
             "ticks": ""
            },
            "colorscale": [
             [
              0,
              "#0d0887"
             ],
             [
              0.1111111111111111,
              "#46039f"
             ],
             [
              0.2222222222222222,
              "#7201a8"
             ],
             [
              0.3333333333333333,
              "#9c179e"
             ],
             [
              0.4444444444444444,
              "#bd3786"
             ],
             [
              0.5555555555555556,
              "#d8576b"
             ],
             [
              0.6666666666666666,
              "#ed7953"
             ],
             [
              0.7777777777777778,
              "#fb9f3a"
             ],
             [
              0.8888888888888888,
              "#fdca26"
             ],
             [
              1,
              "#f0f921"
             ]
            ],
            "type": "contour"
           }
          ],
          "contourcarpet": [
           {
            "colorbar": {
             "outlinewidth": 0,
             "ticks": ""
            },
            "type": "contourcarpet"
           }
          ],
          "heatmap": [
           {
            "colorbar": {
             "outlinewidth": 0,
             "ticks": ""
            },
            "colorscale": [
             [
              0,
              "#0d0887"
             ],
             [
              0.1111111111111111,
              "#46039f"
             ],
             [
              0.2222222222222222,
              "#7201a8"
             ],
             [
              0.3333333333333333,
              "#9c179e"
             ],
             [
              0.4444444444444444,
              "#bd3786"
             ],
             [
              0.5555555555555556,
              "#d8576b"
             ],
             [
              0.6666666666666666,
              "#ed7953"
             ],
             [
              0.7777777777777778,
              "#fb9f3a"
             ],
             [
              0.8888888888888888,
              "#fdca26"
             ],
             [
              1,
              "#f0f921"
             ]
            ],
            "type": "heatmap"
           }
          ],
          "heatmapgl": [
           {
            "colorbar": {
             "outlinewidth": 0,
             "ticks": ""
            },
            "colorscale": [
             [
              0,
              "#0d0887"
             ],
             [
              0.1111111111111111,
              "#46039f"
             ],
             [
              0.2222222222222222,
              "#7201a8"
             ],
             [
              0.3333333333333333,
              "#9c179e"
             ],
             [
              0.4444444444444444,
              "#bd3786"
             ],
             [
              0.5555555555555556,
              "#d8576b"
             ],
             [
              0.6666666666666666,
              "#ed7953"
             ],
             [
              0.7777777777777778,
              "#fb9f3a"
             ],
             [
              0.8888888888888888,
              "#fdca26"
             ],
             [
              1,
              "#f0f921"
             ]
            ],
            "type": "heatmapgl"
           }
          ],
          "histogram": [
           {
            "marker": {
             "pattern": {
              "fillmode": "overlay",
              "size": 10,
              "solidity": 0.2
             }
            },
            "type": "histogram"
           }
          ],
          "histogram2d": [
           {
            "colorbar": {
             "outlinewidth": 0,
             "ticks": ""
            },
            "colorscale": [
             [
              0,
              "#0d0887"
             ],
             [
              0.1111111111111111,
              "#46039f"
             ],
             [
              0.2222222222222222,
              "#7201a8"
             ],
             [
              0.3333333333333333,
              "#9c179e"
             ],
             [
              0.4444444444444444,
              "#bd3786"
             ],
             [
              0.5555555555555556,
              "#d8576b"
             ],
             [
              0.6666666666666666,
              "#ed7953"
             ],
             [
              0.7777777777777778,
              "#fb9f3a"
             ],
             [
              0.8888888888888888,
              "#fdca26"
             ],
             [
              1,
              "#f0f921"
             ]
            ],
            "type": "histogram2d"
           }
          ],
          "histogram2dcontour": [
           {
            "colorbar": {
             "outlinewidth": 0,
             "ticks": ""
            },
            "colorscale": [
             [
              0,
              "#0d0887"
             ],
             [
              0.1111111111111111,
              "#46039f"
             ],
             [
              0.2222222222222222,
              "#7201a8"
             ],
             [
              0.3333333333333333,
              "#9c179e"
             ],
             [
              0.4444444444444444,
              "#bd3786"
             ],
             [
              0.5555555555555556,
              "#d8576b"
             ],
             [
              0.6666666666666666,
              "#ed7953"
             ],
             [
              0.7777777777777778,
              "#fb9f3a"
             ],
             [
              0.8888888888888888,
              "#fdca26"
             ],
             [
              1,
              "#f0f921"
             ]
            ],
            "type": "histogram2dcontour"
           }
          ],
          "mesh3d": [
           {
            "colorbar": {
             "outlinewidth": 0,
             "ticks": ""
            },
            "type": "mesh3d"
           }
          ],
          "parcoords": [
           {
            "line": {
             "colorbar": {
              "outlinewidth": 0,
              "ticks": ""
             }
            },
            "type": "parcoords"
           }
          ],
          "pie": [
           {
            "automargin": true,
            "type": "pie"
           }
          ],
          "scatter": [
           {
            "fillpattern": {
             "fillmode": "overlay",
             "size": 10,
             "solidity": 0.2
            },
            "type": "scatter"
           }
          ],
          "scatter3d": [
           {
            "line": {
             "colorbar": {
              "outlinewidth": 0,
              "ticks": ""
             }
            },
            "marker": {
             "colorbar": {
              "outlinewidth": 0,
              "ticks": ""
             }
            },
            "type": "scatter3d"
           }
          ],
          "scattercarpet": [
           {
            "marker": {
             "colorbar": {
              "outlinewidth": 0,
              "ticks": ""
             }
            },
            "type": "scattercarpet"
           }
          ],
          "scattergeo": [
           {
            "marker": {
             "colorbar": {
              "outlinewidth": 0,
              "ticks": ""
             }
            },
            "type": "scattergeo"
           }
          ],
          "scattergl": [
           {
            "marker": {
             "colorbar": {
              "outlinewidth": 0,
              "ticks": ""
             }
            },
            "type": "scattergl"
           }
          ],
          "scattermapbox": [
           {
            "marker": {
             "colorbar": {
              "outlinewidth": 0,
              "ticks": ""
             }
            },
            "type": "scattermapbox"
           }
          ],
          "scatterpolar": [
           {
            "marker": {
             "colorbar": {
              "outlinewidth": 0,
              "ticks": ""
             }
            },
            "type": "scatterpolar"
           }
          ],
          "scatterpolargl": [
           {
            "marker": {
             "colorbar": {
              "outlinewidth": 0,
              "ticks": ""
             }
            },
            "type": "scatterpolargl"
           }
          ],
          "scatterternary": [
           {
            "marker": {
             "colorbar": {
              "outlinewidth": 0,
              "ticks": ""
             }
            },
            "type": "scatterternary"
           }
          ],
          "surface": [
           {
            "colorbar": {
             "outlinewidth": 0,
             "ticks": ""
            },
            "colorscale": [
             [
              0,
              "#0d0887"
             ],
             [
              0.1111111111111111,
              "#46039f"
             ],
             [
              0.2222222222222222,
              "#7201a8"
             ],
             [
              0.3333333333333333,
              "#9c179e"
             ],
             [
              0.4444444444444444,
              "#bd3786"
             ],
             [
              0.5555555555555556,
              "#d8576b"
             ],
             [
              0.6666666666666666,
              "#ed7953"
             ],
             [
              0.7777777777777778,
              "#fb9f3a"
             ],
             [
              0.8888888888888888,
              "#fdca26"
             ],
             [
              1,
              "#f0f921"
             ]
            ],
            "type": "surface"
           }
          ],
          "table": [
           {
            "cells": {
             "fill": {
              "color": "#EBF0F8"
             },
             "line": {
              "color": "white"
             }
            },
            "header": {
             "fill": {
              "color": "#C8D4E3"
             },
             "line": {
              "color": "white"
             }
            },
            "type": "table"
           }
          ]
         },
         "layout": {
          "annotationdefaults": {
           "arrowcolor": "#2a3f5f",
           "arrowhead": 0,
           "arrowwidth": 1
          },
          "autotypenumbers": "strict",
          "coloraxis": {
           "colorbar": {
            "outlinewidth": 0,
            "ticks": ""
           }
          },
          "colorscale": {
           "diverging": [
            [
             0,
             "#8e0152"
            ],
            [
             0.1,
             "#c51b7d"
            ],
            [
             0.2,
             "#de77ae"
            ],
            [
             0.3,
             "#f1b6da"
            ],
            [
             0.4,
             "#fde0ef"
            ],
            [
             0.5,
             "#f7f7f7"
            ],
            [
             0.6,
             "#e6f5d0"
            ],
            [
             0.7,
             "#b8e186"
            ],
            [
             0.8,
             "#7fbc41"
            ],
            [
             0.9,
             "#4d9221"
            ],
            [
             1,
             "#276419"
            ]
           ],
           "sequential": [
            [
             0,
             "#0d0887"
            ],
            [
             0.1111111111111111,
             "#46039f"
            ],
            [
             0.2222222222222222,
             "#7201a8"
            ],
            [
             0.3333333333333333,
             "#9c179e"
            ],
            [
             0.4444444444444444,
             "#bd3786"
            ],
            [
             0.5555555555555556,
             "#d8576b"
            ],
            [
             0.6666666666666666,
             "#ed7953"
            ],
            [
             0.7777777777777778,
             "#fb9f3a"
            ],
            [
             0.8888888888888888,
             "#fdca26"
            ],
            [
             1,
             "#f0f921"
            ]
           ],
           "sequentialminus": [
            [
             0,
             "#0d0887"
            ],
            [
             0.1111111111111111,
             "#46039f"
            ],
            [
             0.2222222222222222,
             "#7201a8"
            ],
            [
             0.3333333333333333,
             "#9c179e"
            ],
            [
             0.4444444444444444,
             "#bd3786"
            ],
            [
             0.5555555555555556,
             "#d8576b"
            ],
            [
             0.6666666666666666,
             "#ed7953"
            ],
            [
             0.7777777777777778,
             "#fb9f3a"
            ],
            [
             0.8888888888888888,
             "#fdca26"
            ],
            [
             1,
             "#f0f921"
            ]
           ]
          },
          "colorway": [
           "#636efa",
           "#EF553B",
           "#00cc96",
           "#ab63fa",
           "#FFA15A",
           "#19d3f3",
           "#FF6692",
           "#B6E880",
           "#FF97FF",
           "#FECB52"
          ],
          "font": {
           "color": "#2a3f5f"
          },
          "geo": {
           "bgcolor": "white",
           "lakecolor": "white",
           "landcolor": "#E5ECF6",
           "showlakes": true,
           "showland": true,
           "subunitcolor": "white"
          },
          "hoverlabel": {
           "align": "left"
          },
          "hovermode": "closest",
          "mapbox": {
           "style": "light"
          },
          "paper_bgcolor": "white",
          "plot_bgcolor": "#E5ECF6",
          "polar": {
           "angularaxis": {
            "gridcolor": "white",
            "linecolor": "white",
            "ticks": ""
           },
           "bgcolor": "#E5ECF6",
           "radialaxis": {
            "gridcolor": "white",
            "linecolor": "white",
            "ticks": ""
           }
          },
          "scene": {
           "xaxis": {
            "backgroundcolor": "#E5ECF6",
            "gridcolor": "white",
            "gridwidth": 2,
            "linecolor": "white",
            "showbackground": true,
            "ticks": "",
            "zerolinecolor": "white"
           },
           "yaxis": {
            "backgroundcolor": "#E5ECF6",
            "gridcolor": "white",
            "gridwidth": 2,
            "linecolor": "white",
            "showbackground": true,
            "ticks": "",
            "zerolinecolor": "white"
           },
           "zaxis": {
            "backgroundcolor": "#E5ECF6",
            "gridcolor": "white",
            "gridwidth": 2,
            "linecolor": "white",
            "showbackground": true,
            "ticks": "",
            "zerolinecolor": "white"
           }
          },
          "shapedefaults": {
           "line": {
            "color": "#2a3f5f"
           }
          },
          "ternary": {
           "aaxis": {
            "gridcolor": "white",
            "linecolor": "white",
            "ticks": ""
           },
           "baxis": {
            "gridcolor": "white",
            "linecolor": "white",
            "ticks": ""
           },
           "bgcolor": "#E5ECF6",
           "caxis": {
            "gridcolor": "white",
            "linecolor": "white",
            "ticks": ""
           }
          },
          "title": {
           "x": 0.05
          },
          "xaxis": {
           "automargin": true,
           "gridcolor": "white",
           "linecolor": "white",
           "ticks": "",
           "title": {
            "standoff": 15
           },
           "zerolinecolor": "white",
           "zerolinewidth": 2
          },
          "yaxis": {
           "automargin": true,
           "gridcolor": "white",
           "linecolor": "white",
           "ticks": "",
           "title": {
            "standoff": 15
           },
           "zerolinecolor": "white",
           "zerolinewidth": 2
          }
         }
        }
       }
      },
      "text/html": [
       "<div>                            <div id=\"5758f6fa-b4d5-412e-aa7e-d79ba2105b64\" class=\"plotly-graph-div\" style=\"height:525px; width:100%;\"></div>            <script type=\"text/javascript\">                require([\"plotly\"], function(Plotly) {                    window.PLOTLYENV=window.PLOTLYENV || {};                                    if (document.getElementById(\"5758f6fa-b4d5-412e-aa7e-d79ba2105b64\")) {                    Plotly.newPlot(                        \"5758f6fa-b4d5-412e-aa7e-d79ba2105b64\",                        [{\"colorbar\":{\"title\":{\"text\":\"Influencers Country\"}},\"colorscale\":[[0.0,\"#30123b\"],[0.07142857142857142,\"#4145ab\"],[0.14285714285714285,\"#4675ed\"],[0.21428571428571427,\"#39a2fc\"],[0.2857142857142857,\"#1bcfd4\"],[0.35714285714285715,\"#24eca6\"],[0.42857142857142855,\"#61fc6c\"],[0.5,\"#a4fc3b\"],[0.5714285714285714,\"#d1e834\"],[0.6428571428571429,\"#f3c63a\"],[0.7142857142857143,\"#fe9b2d\"],[0.7857142857142857,\"#f36315\"],[0.8571428571428571,\"#d93806\"],[0.9285714285714286,\"#b11901\"],[1.0,\"#7a0402\"]],\"locationmode\":\"country names\",\"locations\":[\"Anguilla\",\"Australia\",\"Brazil\",\"British Virgin Islands\",\"Canada\",\"Colombia\",\"Czech Republic\",\"C\\u00c3\\u00b4te d'Ivoire\",\"France\",\"Germany\",\"India\",\"Indonesia\",\"Italy\",\"Mexico\",\"Netherlands\",\"Puerto Rico\",\"Russia\",\"Spain\",\"Sweden\",\"Switzerland\",\"Turkey\",\"United Arab Emirates\",\"United Kingdom\",\"United States\",\"Uruguay\"],\"marker\":{\"line\":{\"color\":\"rgb(255,255,255)\",\"width\":2}},\"z\":[1,1,13,1,3,3,1,1,6,1,12,7,1,2,2,1,1,5,1,1,2,1,4,66,1],\"type\":\"choropleth\"}],                        {\"geo\":{\"scope\":\"world\"},\"template\":{\"data\":{\"histogram2dcontour\":[{\"type\":\"histogram2dcontour\",\"colorbar\":{\"outlinewidth\":0,\"ticks\":\"\"},\"colorscale\":[[0.0,\"#0d0887\"],[0.1111111111111111,\"#46039f\"],[0.2222222222222222,\"#7201a8\"],[0.3333333333333333,\"#9c179e\"],[0.4444444444444444,\"#bd3786\"],[0.5555555555555556,\"#d8576b\"],[0.6666666666666666,\"#ed7953\"],[0.7777777777777778,\"#fb9f3a\"],[0.8888888888888888,\"#fdca26\"],[1.0,\"#f0f921\"]]}],\"choropleth\":[{\"type\":\"choropleth\",\"colorbar\":{\"outlinewidth\":0,\"ticks\":\"\"}}],\"histogram2d\":[{\"type\":\"histogram2d\",\"colorbar\":{\"outlinewidth\":0,\"ticks\":\"\"},\"colorscale\":[[0.0,\"#0d0887\"],[0.1111111111111111,\"#46039f\"],[0.2222222222222222,\"#7201a8\"],[0.3333333333333333,\"#9c179e\"],[0.4444444444444444,\"#bd3786\"],[0.5555555555555556,\"#d8576b\"],[0.6666666666666666,\"#ed7953\"],[0.7777777777777778,\"#fb9f3a\"],[0.8888888888888888,\"#fdca26\"],[1.0,\"#f0f921\"]]}],\"heatmap\":[{\"type\":\"heatmap\",\"colorbar\":{\"outlinewidth\":0,\"ticks\":\"\"},\"colorscale\":[[0.0,\"#0d0887\"],[0.1111111111111111,\"#46039f\"],[0.2222222222222222,\"#7201a8\"],[0.3333333333333333,\"#9c179e\"],[0.4444444444444444,\"#bd3786\"],[0.5555555555555556,\"#d8576b\"],[0.6666666666666666,\"#ed7953\"],[0.7777777777777778,\"#fb9f3a\"],[0.8888888888888888,\"#fdca26\"],[1.0,\"#f0f921\"]]}],\"heatmapgl\":[{\"type\":\"heatmapgl\",\"colorbar\":{\"outlinewidth\":0,\"ticks\":\"\"},\"colorscale\":[[0.0,\"#0d0887\"],[0.1111111111111111,\"#46039f\"],[0.2222222222222222,\"#7201a8\"],[0.3333333333333333,\"#9c179e\"],[0.4444444444444444,\"#bd3786\"],[0.5555555555555556,\"#d8576b\"],[0.6666666666666666,\"#ed7953\"],[0.7777777777777778,\"#fb9f3a\"],[0.8888888888888888,\"#fdca26\"],[1.0,\"#f0f921\"]]}],\"contourcarpet\":[{\"type\":\"contourcarpet\",\"colorbar\":{\"outlinewidth\":0,\"ticks\":\"\"}}],\"contour\":[{\"type\":\"contour\",\"colorbar\":{\"outlinewidth\":0,\"ticks\":\"\"},\"colorscale\":[[0.0,\"#0d0887\"],[0.1111111111111111,\"#46039f\"],[0.2222222222222222,\"#7201a8\"],[0.3333333333333333,\"#9c179e\"],[0.4444444444444444,\"#bd3786\"],[0.5555555555555556,\"#d8576b\"],[0.6666666666666666,\"#ed7953\"],[0.7777777777777778,\"#fb9f3a\"],[0.8888888888888888,\"#fdca26\"],[1.0,\"#f0f921\"]]}],\"surface\":[{\"type\":\"surface\",\"colorbar\":{\"outlinewidth\":0,\"ticks\":\"\"},\"colorscale\":[[0.0,\"#0d0887\"],[0.1111111111111111,\"#46039f\"],[0.2222222222222222,\"#7201a8\"],[0.3333333333333333,\"#9c179e\"],[0.4444444444444444,\"#bd3786\"],[0.5555555555555556,\"#d8576b\"],[0.6666666666666666,\"#ed7953\"],[0.7777777777777778,\"#fb9f3a\"],[0.8888888888888888,\"#fdca26\"],[1.0,\"#f0f921\"]]}],\"mesh3d\":[{\"type\":\"mesh3d\",\"colorbar\":{\"outlinewidth\":0,\"ticks\":\"\"}}],\"scatter\":[{\"fillpattern\":{\"fillmode\":\"overlay\",\"size\":10,\"solidity\":0.2},\"type\":\"scatter\"}],\"parcoords\":[{\"type\":\"parcoords\",\"line\":{\"colorbar\":{\"outlinewidth\":0,\"ticks\":\"\"}}}],\"scatterpolargl\":[{\"type\":\"scatterpolargl\",\"marker\":{\"colorbar\":{\"outlinewidth\":0,\"ticks\":\"\"}}}],\"bar\":[{\"error_x\":{\"color\":\"#2a3f5f\"},\"error_y\":{\"color\":\"#2a3f5f\"},\"marker\":{\"line\":{\"color\":\"#E5ECF6\",\"width\":0.5},\"pattern\":{\"fillmode\":\"overlay\",\"size\":10,\"solidity\":0.2}},\"type\":\"bar\"}],\"scattergeo\":[{\"type\":\"scattergeo\",\"marker\":{\"colorbar\":{\"outlinewidth\":0,\"ticks\":\"\"}}}],\"scatterpolar\":[{\"type\":\"scatterpolar\",\"marker\":{\"colorbar\":{\"outlinewidth\":0,\"ticks\":\"\"}}}],\"histogram\":[{\"marker\":{\"pattern\":{\"fillmode\":\"overlay\",\"size\":10,\"solidity\":0.2}},\"type\":\"histogram\"}],\"scattergl\":[{\"type\":\"scattergl\",\"marker\":{\"colorbar\":{\"outlinewidth\":0,\"ticks\":\"\"}}}],\"scatter3d\":[{\"type\":\"scatter3d\",\"line\":{\"colorbar\":{\"outlinewidth\":0,\"ticks\":\"\"}},\"marker\":{\"colorbar\":{\"outlinewidth\":0,\"ticks\":\"\"}}}],\"scattermapbox\":[{\"type\":\"scattermapbox\",\"marker\":{\"colorbar\":{\"outlinewidth\":0,\"ticks\":\"\"}}}],\"scatterternary\":[{\"type\":\"scatterternary\",\"marker\":{\"colorbar\":{\"outlinewidth\":0,\"ticks\":\"\"}}}],\"scattercarpet\":[{\"type\":\"scattercarpet\",\"marker\":{\"colorbar\":{\"outlinewidth\":0,\"ticks\":\"\"}}}],\"carpet\":[{\"aaxis\":{\"endlinecolor\":\"#2a3f5f\",\"gridcolor\":\"white\",\"linecolor\":\"white\",\"minorgridcolor\":\"white\",\"startlinecolor\":\"#2a3f5f\"},\"baxis\":{\"endlinecolor\":\"#2a3f5f\",\"gridcolor\":\"white\",\"linecolor\":\"white\",\"minorgridcolor\":\"white\",\"startlinecolor\":\"#2a3f5f\"},\"type\":\"carpet\"}],\"table\":[{\"cells\":{\"fill\":{\"color\":\"#EBF0F8\"},\"line\":{\"color\":\"white\"}},\"header\":{\"fill\":{\"color\":\"#C8D4E3\"},\"line\":{\"color\":\"white\"}},\"type\":\"table\"}],\"barpolar\":[{\"marker\":{\"line\":{\"color\":\"#E5ECF6\",\"width\":0.5},\"pattern\":{\"fillmode\":\"overlay\",\"size\":10,\"solidity\":0.2}},\"type\":\"barpolar\"}],\"pie\":[{\"automargin\":true,\"type\":\"pie\"}]},\"layout\":{\"autotypenumbers\":\"strict\",\"colorway\":[\"#636efa\",\"#EF553B\",\"#00cc96\",\"#ab63fa\",\"#FFA15A\",\"#19d3f3\",\"#FF6692\",\"#B6E880\",\"#FF97FF\",\"#FECB52\"],\"font\":{\"color\":\"#2a3f5f\"},\"hovermode\":\"closest\",\"hoverlabel\":{\"align\":\"left\"},\"paper_bgcolor\":\"white\",\"plot_bgcolor\":\"#E5ECF6\",\"polar\":{\"bgcolor\":\"#E5ECF6\",\"angularaxis\":{\"gridcolor\":\"white\",\"linecolor\":\"white\",\"ticks\":\"\"},\"radialaxis\":{\"gridcolor\":\"white\",\"linecolor\":\"white\",\"ticks\":\"\"}},\"ternary\":{\"bgcolor\":\"#E5ECF6\",\"aaxis\":{\"gridcolor\":\"white\",\"linecolor\":\"white\",\"ticks\":\"\"},\"baxis\":{\"gridcolor\":\"white\",\"linecolor\":\"white\",\"ticks\":\"\"},\"caxis\":{\"gridcolor\":\"white\",\"linecolor\":\"white\",\"ticks\":\"\"}},\"coloraxis\":{\"colorbar\":{\"outlinewidth\":0,\"ticks\":\"\"}},\"colorscale\":{\"sequential\":[[0.0,\"#0d0887\"],[0.1111111111111111,\"#46039f\"],[0.2222222222222222,\"#7201a8\"],[0.3333333333333333,\"#9c179e\"],[0.4444444444444444,\"#bd3786\"],[0.5555555555555556,\"#d8576b\"],[0.6666666666666666,\"#ed7953\"],[0.7777777777777778,\"#fb9f3a\"],[0.8888888888888888,\"#fdca26\"],[1.0,\"#f0f921\"]],\"sequentialminus\":[[0.0,\"#0d0887\"],[0.1111111111111111,\"#46039f\"],[0.2222222222222222,\"#7201a8\"],[0.3333333333333333,\"#9c179e\"],[0.4444444444444444,\"#bd3786\"],[0.5555555555555556,\"#d8576b\"],[0.6666666666666666,\"#ed7953\"],[0.7777777777777778,\"#fb9f3a\"],[0.8888888888888888,\"#fdca26\"],[1.0,\"#f0f921\"]],\"diverging\":[[0,\"#8e0152\"],[0.1,\"#c51b7d\"],[0.2,\"#de77ae\"],[0.3,\"#f1b6da\"],[0.4,\"#fde0ef\"],[0.5,\"#f7f7f7\"],[0.6,\"#e6f5d0\"],[0.7,\"#b8e186\"],[0.8,\"#7fbc41\"],[0.9,\"#4d9221\"],[1,\"#276419\"]]},\"xaxis\":{\"gridcolor\":\"white\",\"linecolor\":\"white\",\"ticks\":\"\",\"title\":{\"standoff\":15},\"zerolinecolor\":\"white\",\"automargin\":true,\"zerolinewidth\":2},\"yaxis\":{\"gridcolor\":\"white\",\"linecolor\":\"white\",\"ticks\":\"\",\"title\":{\"standoff\":15},\"zerolinecolor\":\"white\",\"automargin\":true,\"zerolinewidth\":2},\"scene\":{\"xaxis\":{\"backgroundcolor\":\"#E5ECF6\",\"gridcolor\":\"white\",\"linecolor\":\"white\",\"showbackground\":true,\"ticks\":\"\",\"zerolinecolor\":\"white\",\"gridwidth\":2},\"yaxis\":{\"backgroundcolor\":\"#E5ECF6\",\"gridcolor\":\"white\",\"linecolor\":\"white\",\"showbackground\":true,\"ticks\":\"\",\"zerolinecolor\":\"white\",\"gridwidth\":2},\"zaxis\":{\"backgroundcolor\":\"#E5ECF6\",\"gridcolor\":\"white\",\"linecolor\":\"white\",\"showbackground\":true,\"ticks\":\"\",\"zerolinecolor\":\"white\",\"gridwidth\":2}},\"shapedefaults\":{\"line\":{\"color\":\"#2a3f5f\"}},\"annotationdefaults\":{\"arrowcolor\":\"#2a3f5f\",\"arrowhead\":0,\"arrowwidth\":1},\"geo\":{\"bgcolor\":\"white\",\"landcolor\":\"#E5ECF6\",\"subunitcolor\":\"white\",\"showland\":true,\"showlakes\":true,\"lakecolor\":\"white\"},\"title\":{\"x\":0.05},\"mapbox\":{\"style\":\"light\"}}}},                        {\"responsive\": true}                    ).then(function(){\n",
       "                            \n",
       "var gd = document.getElementById('5758f6fa-b4d5-412e-aa7e-d79ba2105b64');\n",
       "var x = new MutationObserver(function (mutations, observer) {{\n",
       "        var display = window.getComputedStyle(gd).display;\n",
       "        if (!display || display === 'none') {{\n",
       "            console.log([gd, 'removed!']);\n",
       "            Plotly.purge(gd);\n",
       "            observer.disconnect();\n",
       "        }}\n",
       "}});\n",
       "\n",
       "// Listen for the removal of the full notebook cells\n",
       "var notebookContainer = gd.closest('#notebook-container');\n",
       "if (notebookContainer) {{\n",
       "    x.observe(notebookContainer, {childList: true});\n",
       "}}\n",
       "\n",
       "// Listen for the clearing of the current output cell\n",
       "var outputEl = gd.closest('.output');\n",
       "if (outputEl) {{\n",
       "    x.observe(outputEl, {childList: true});\n",
       "}}\n",
       "\n",
       "                        })                };                });            </script>        </div>"
      ]
     },
     "metadata": {},
     "output_type": "display_data"
    }
   ],
   "source": [
    "choropleth_map = go.Figure(\n",
    "    data = {'type'        :'choropleth',\n",
    "            'locations'   : df1['country'],\n",
    "            'locationmode':\"country names\",\n",
    "            'colorscale'  :'turbo',\n",
    "            'z'           : df1['Size'],\n",
    "            'colorbar'    : {'title':'Influencers Country'},\n",
    "            'marker'      : {\n",
    "                'line'    : {'color':'rgb(255,255,255)','width': 2}}},     \n",
    "    layout = {'geo':{'scope':'world',} })\n",
    "\n",
    "choropleth_map"
   ]
  },
  {
   "cell_type": "markdown",
   "id": "942920d1",
   "metadata": {},
   "source": [
    "# INFERENCES:\n"
   ]
  },
  {
   "cell_type": "code",
   "execution_count": null,
   "id": "419db982",
   "metadata": {},
   "outputs": [],
   "source": [
    "# 1.  Top Instagram performers are Cristiano, KylieJenner, SelenaGomez, TheRock, KimKardashian.\n",
    "\n",
    "# 2. This value represents the central tendency or the typical value of the \"followers\" variable in our dataset. Specifically, it means that, on average, Instagram influencers in our dataset have approximately 83.7.\n",
    "\n",
    "# 3. Countries with the highest number of performers are United States, Brazil and India.\n",
    "\n",
    "#4.  Number of followers are maximum of top rank influencers."
   ]
  }
 ],
 "metadata": {
  "kernelspec": {
   "display_name": "Python 3 (ipykernel)",
   "language": "python",
   "name": "python3"
  },
  "language_info": {
   "codemirror_mode": {
    "name": "ipython",
    "version": 3
   },
   "file_extension": ".py",
   "mimetype": "text/x-python",
   "name": "python",
   "nbconvert_exporter": "python",
   "pygments_lexer": "ipython3",
   "version": "3.11.3"
  }
 },
 "nbformat": 4,
 "nbformat_minor": 5
}
